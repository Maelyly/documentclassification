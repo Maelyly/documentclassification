{
 "cells": [
  {
   "cell_type": "code",
   "execution_count": null,
   "metadata": {},
   "outputs": [],
   "source": [
    "import concurrent.futures\n",
    "import glob\n",
    "import time\n",
    "import sys\n",
    "import os\n",
    "import pandas as pd\n",
    "from PyPDF2 import PdfFileReader\n",
    "import io\n",
    "import re\n",
    "import csv\n",
    "import numpy as np\n",
    "from datetime import datetime\n",
    "import math\n",
    "from pdf2image import convert_from_bytes, convert_from_path\n",
    "from PIL import Image\n",
    "import pytesseract\n",
    "import cv2\n",
    "from PIL import Image"
   ]
  },
  {
   "cell_type": "code",
   "execution_count": null,
   "metadata": {},
   "outputs": [],
   "source": [
    "\n",
    "\n",
    "def binarization(image):\n",
    "    image = image.convert('RGB')\n",
    "\n",
    "    npimage = np.asarray(image).astype(np.uint8)  \n",
    "\n",
    "    npimage[:, :, 0] = 0\n",
    "    npimage[:, :, 2] = 0\n",
    "\n",
    "    im = cv2.cvtColor(npimage, cv2.COLOR_RGB2GRAY) \n",
    "\n",
    "    ret, thresh = cv2.threshold(im, 80, 255, cv2.THRESH_BINARY | cv2.THRESH_OTSU) \n",
    "\n",
    "    binimage = Image.fromarray(thresh)\n",
    "    return binimage\n",
    "\n",
    "\n",
    "def get_pages_as_images(file):\n",
    "    #images = convert_from_path('{}'.format(file), 250, grayscale=True)\n",
    "    images = convert_from_bytes(file, 300, grayscale=True)\n",
    "    num_page = 1\n",
    "    for image in images:\n",
    "        image = binarization(image)\n",
    "    return images\n",
    "\n",
    "\n",
    "\n",
    "def do_ocr(data):\n",
    "\n",
    "    img = data[1]\n",
    "    text = pytesseract.image_to_string(img,lang='por')\n",
    "    \n",
    "    '''\n",
    "    out_dir = \"\"\n",
    "    out_file = 'tmp/page-{}.txt'.format(data[0])\n",
    "    out_path = out_dir + out_file\n",
    "    f = open(out_path,\"w\")\n",
    "    f.write(\"%s\" %text)\n",
    "    f.close()\n",
    "    '''\n",
    "    return text\n",
    "\n",
    "def ocr_job(image_list):\n",
    "    os.environ['OMP_THREAD_LIMIT'] = '1'\n",
    "    num_workers = os.cpu_count()\n",
    "    results = {}\n",
    "    with concurrent.futures.ProcessPoolExecutor(max_workers=num_workers - 1) as executor:      \n",
    "        data = []\n",
    "        for i in range(len(image_list)):\n",
    "            data.append((i, image_list[i]))\n",
    "        for (page, file), text in zip(data, executor.map(do_ocr, data)):\n",
    "            #print('page {}'.format(page))\n",
    "            results[int(page)] = text\n",
    "                \n",
    "    return results"
   ]
  },
  {
   "cell_type": "code",
   "execution_count": null,
   "metadata": {},
   "outputs": [],
   "source": [
    "print(os.cpu_count())"
   ]
  },
  {
   "cell_type": "code",
   "execution_count": null,
   "metadata": {},
   "outputs": [],
   "source": [
    "start = time.time()\n",
    "text = ocr_job(pdf)\n",
    "end = time.time()"
   ]
  },
  {
   "cell_type": "code",
   "execution_count": null,
   "metadata": {},
   "outputs": [],
   "source": []
  },
  {
   "cell_type": "code",
   "execution_count": null,
   "metadata": {},
   "outputs": [],
   "source": []
  }
 ],
 "metadata": {
  "kernelspec": {
   "display_name": "Python 3",
   "language": "python",
   "name": "python3"
  },
  "language_info": {
   "codemirror_mode": {
    "name": "ipython",
    "version": 3
   },
   "file_extension": ".py",
   "mimetype": "text/x-python",
   "name": "python",
   "nbconvert_exporter": "python",
   "pygments_lexer": "ipython3",
   "version": "3.6.9"
  }
 },
 "nbformat": 4,
 "nbformat_minor": 2
}
